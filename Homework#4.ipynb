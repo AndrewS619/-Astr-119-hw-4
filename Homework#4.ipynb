{
 "cells": [
  {
   "cell_type": "code",
   "execution_count": null,
   "metadata": {},
   "outputs": [],
   "source": [
    "%matplotlib inline\n",
    "import numpy as np\n",
    "import matplotlib.pyplot as plt"
   ]
  },
  {
   "cell_type": "code",
   "execution_count": null,
   "metadata": {},
   "outputs": [],
   "source": [
    "def f(x):\n",
    "    return 1.01*x**2 + (-3.04)*x + 2.07  #defined function needing roots\n",
    "    \n",
    "\n",
    "def bisection(x0,x1,tol,maxiter=10000):  #brackets, tolerance and max iterations\n",
    "    Fa = x0\n",
    "    Fb = x1\n",
    "    for i in range(maxiter):         \n",
    "        x3 = (Fa+Fb)/2.0       #finds midpoint for bracket during loop\n",
    "        z= f(Fa) * f(x3)       #multiples left bracket in function with the midpoint\n",
    "        if np.abs(Fa-Fb)<= tol:  #if inital bracket is root stop                              \n",
    "                return x3, i     # and spit out root with num of iterations\n",
    "        if z > tol:\n",
    "            Fa = x3        #moves the midpoint \n",
    "        elif z < tol:      #to be new outside bracket\n",
    "            Fb = x3\n",
    "        else:\n",
    "            print(\"a and b due not bracket root \")\n",
    "      \n",
    "    return x3, i\n",
    "\n",
    "\n",
    "# gives the answer of the roots and num of iterations for that root\n",
    "output1  = bisection(-0.5,1.5,1.0e-6)\n",
    "print(\" bisection gives root 1 at (x=,#iteration=)\",output1)\n",
    "output2 = bisection(1.5,2.5,1.0e-6)\n",
    "print(\" bisection gives root 2 at (x=,#iteration=) \",output2) \n",
    "\n",
    "\n",
    "\n",
    "# graph of function and root guesses\n",
    "x = np.linspace(0,3,1000)\n",
    "plt.plot(x,f(x))\n",
    "plt.xlim((0,3))\n",
    "plt.ylim((-0.5,2.1))\n",
    "plt.axhline(linewidth=1, color='r')\n",
    "plt.plot([0.5,1.5,2.5],[0.8025,-0.2175,0.783], \"s\") # initial brackets\n",
    "plt.show()"
   ]
  }
 ],
 "metadata": {
  "kernelspec": {
   "display_name": "Python 3",
   "language": "python",
   "name": "python3"
  },
  "language_info": {
   "codemirror_mode": {
    "name": "ipython",
    "version": 3
   },
   "file_extension": ".py",
   "mimetype": "text/x-python",
   "name": "python",
   "nbconvert_exporter": "python",
   "pygments_lexer": "ipython3",
   "version": "3.8.6"
  }
 },
 "nbformat": 4,
 "nbformat_minor": 4
}
